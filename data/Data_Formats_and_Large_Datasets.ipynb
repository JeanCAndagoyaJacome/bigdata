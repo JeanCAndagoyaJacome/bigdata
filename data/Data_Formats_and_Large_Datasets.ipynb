{
  "nbformat": 4,
  "nbformat_minor": 0,
  "metadata": {
    "colab": {
      "name": "Data Formats and Large Datasets.ipynb",
      "provenance": [],
      "collapsed_sections": []
    },
    "kernelspec": {
      "name": "python3",
      "display_name": "Python 3"
    },
    "language_info": {
      "name": "python"
    }
  },
  "cells": [
    {
      "cell_type": "markdown",
      "metadata": {
        "id": "DnW4VlulKrLx"
      },
      "source": [
        "## Preparing the lab environment\n",
        "\n",
        "- Create a dataset directory\n",
        "- download the file to the *datasets* directory"
      ]
    },
    {
      "cell_type": "code",
      "metadata": {
        "id": "bRJyT7BEJ7Yx"
      },
      "source": [
        "!mkdir datasets"
      ],
      "execution_count": 1,
      "outputs": []
    },
    {
      "cell_type": "markdown",
      "metadata": {
        "id": "WHJvSB-NgaZe"
      },
      "source": [
        "### Download the dataset"
      ]
    },
    {
      "cell_type": "code",
      "metadata": {
        "colab": {
          "base_uri": "https://localhost:8080/"
        },
        "id": "Nc0mlI9gLMWj",
        "outputId": "a8db6a8a-ae70-4411-9c71-137e17061fd4"
      },
      "source": [
        "!gdown --id 18Ulneqq0CSsuPPva9F4If-OFJkn7rj4M -O datasets/sigma.zip"
      ],
      "execution_count": 2,
      "outputs": [
        {
          "output_type": "stream",
          "name": "stdout",
          "text": [
            "/usr/local/lib/python3.7/dist-packages/gdown/cli.py:131: FutureWarning: Option `--id` was deprecated in version 4.3.1 and will be removed in 5.0. You don't need to pass it anymore to use a file ID.\n",
            "  category=FutureWarning,\n",
            "Downloading...\n",
            "From: https://drive.google.com/uc?id=18Ulneqq0CSsuPPva9F4If-OFJkn7rj4M\n",
            "To: /content/datasets/sigma.zip\n",
            "100% 122M/122M [00:00<00:00, 171MB/s]\n"
          ]
        }
      ]
    },
    {
      "cell_type": "code",
      "metadata": {
        "colab": {
          "base_uri": "https://localhost:8080/"
        },
        "id": "tXIuxC-bNVko",
        "outputId": "d77ecf7e-2408-49bf-d8a5-89542d9f8928"
      },
      "source": [
        "ls -al datasets/"
      ],
      "execution_count": 3,
      "outputs": [
        {
          "output_type": "stream",
          "name": "stdout",
          "text": [
            "total 118852\n",
            "drwxr-xr-x 2 root root      4096 Jun 23 07:09 \u001b[0m\u001b[01;34m.\u001b[0m/\n",
            "drwxr-xr-x 1 root root      4096 Jun 23 07:09 \u001b[01;34m..\u001b[0m/\n",
            "-rw-r--r-- 1 root root 121693383 Jun 23 07:09 sigma.zip\n"
          ]
        }
      ]
    },
    {
      "cell_type": "markdown",
      "metadata": {
        "id": "N6qbFMYOgdEC"
      },
      "source": [
        "### Unzip the dataset"
      ]
    },
    {
      "cell_type": "code",
      "metadata": {
        "colab": {
          "base_uri": "https://localhost:8080/"
        },
        "id": "hSurMQn8Ojs0",
        "outputId": "6915f16c-b40f-4359-cd94-25667ae02dfa"
      },
      "source": [
        "!unzip datasets/sigma.zip -d datasets/"
      ],
      "execution_count": 4,
      "outputs": [
        {
          "output_type": "stream",
          "name": "stdout",
          "text": [
            "Archive:  datasets/sigma.zip\n",
            "  inflating: datasets/train.csv      \n",
            "  inflating: datasets/sample_submission.csv  \n",
            "  inflating: datasets/test.csv       \n"
          ]
        }
      ]
    },
    {
      "cell_type": "code",
      "metadata": {
        "colab": {
          "base_uri": "https://localhost:8080/"
        },
        "id": "p2_TOflvO6sB",
        "outputId": "6f50b085-3b21-4259-d568-ca4e74894296"
      },
      "source": [
        "!ls -al datasets/"
      ],
      "execution_count": 5,
      "outputs": [
        {
          "output_type": "stream",
          "name": "stdout",
          "text": [
            "total 2916732\n",
            "drwxr-xr-x 2 root root       4096 Jun 23 07:09 .\n",
            "drwxr-xr-x 1 root root       4096 Jun 23 07:09 ..\n",
            "---------- 1 root root   14739065 Sep 11  2018 sample_submission.csv\n",
            "-rw-r--r-- 1 root root  121693383 Jun 23 07:09 sigma.zip\n",
            "---------- 1 root root 1346845550 Sep 11  2018 test.csv\n",
            "---------- 1 root root 1503430926 Sep 11  2018 train.csv\n"
          ]
        }
      ]
    },
    {
      "cell_type": "markdown",
      "metadata": {
        "id": "Te90EZkSZbdY"
      },
      "source": [
        "## Benchmarking Various File Formats\n",
        "\n",
        "- csv\n",
        "- pickle\n",
        "- feather\n",
        "- parquet"
      ]
    },
    {
      "cell_type": "markdown",
      "metadata": {
        "id": "2IGtI_IbgmJw"
      },
      "source": [
        "### Reading the CSV File"
      ]
    },
    {
      "cell_type": "code",
      "metadata": {
        "id": "fm5UDm5jPGfw"
      },
      "source": [
        "import pandas as pd\n",
        "import os"
      ],
      "execution_count": 6,
      "outputs": []
    },
    {
      "cell_type": "code",
      "metadata": {
        "colab": {
          "base_uri": "https://localhost:8080/"
        },
        "id": "nwGxN0oMPbpk",
        "outputId": "bd0235fc-857b-446a-96e9-906c9d9190f6"
      },
      "source": [
        "%%time\n",
        "\n",
        "train_df = pd.read_csv(\"./datasets/train.csv\")"
      ],
      "execution_count": 7,
      "outputs": [
        {
          "output_type": "stream",
          "name": "stdout",
          "text": [
            "CPU times: user 9.53 s, sys: 751 ms, total: 10.3 s\n",
            "Wall time: 10.3 s\n"
          ]
        },
        {
          "output_type": "stream",
          "name": "stderr",
          "text": [
            "/usr/local/lib/python3.7/dist-packages/IPython/core/magics/execution.py:1193: DtypeWarning: Columns (3) have mixed types.Specify dtype option on import or set low_memory=False.\n",
            "  exec(code, glob, local_ns)\n"
          ]
        }
      ]
    },
    {
      "cell_type": "code",
      "metadata": {
        "colab": {
          "base_uri": "https://localhost:8080/"
        },
        "id": "QctrbNBaUolb",
        "outputId": "cd208686-1579-4361-b9d5-c8a6a6a462c3"
      },
      "source": [
        "train_df.dtypes"
      ],
      "execution_count": 8,
      "outputs": [
        {
          "output_type": "execute_result",
          "data": {
            "text/plain": [
              "channelGrouping         object\n",
              "date                     int64\n",
              "device                  object\n",
              "fullVisitorId           object\n",
              "geoNetwork              object\n",
              "sessionId               object\n",
              "socialEngagementType    object\n",
              "totals                  object\n",
              "trafficSource           object\n",
              "visitId                  int64\n",
              "visitNumber              int64\n",
              "visitStartTime           int64\n",
              "dtype: object"
            ]
          },
          "metadata": {},
          "execution_count": 8
        }
      ]
    },
    {
      "cell_type": "code",
      "metadata": {
        "colab": {
          "base_uri": "https://localhost:8080/"
        },
        "id": "9klvKDFwPi4D",
        "outputId": "e5c42332-81ce-4621-c990-bc7fa6760782"
      },
      "source": [
        "train_df.info()"
      ],
      "execution_count": 9,
      "outputs": [
        {
          "output_type": "stream",
          "name": "stdout",
          "text": [
            "<class 'pandas.core.frame.DataFrame'>\n",
            "RangeIndex: 903653 entries, 0 to 903652\n",
            "Data columns (total 12 columns):\n",
            " #   Column                Non-Null Count   Dtype \n",
            "---  ------                --------------   ----- \n",
            " 0   channelGrouping       903653 non-null  object\n",
            " 1   date                  903653 non-null  int64 \n",
            " 2   device                903653 non-null  object\n",
            " 3   fullVisitorId         903653 non-null  object\n",
            " 4   geoNetwork            903653 non-null  object\n",
            " 5   sessionId             903653 non-null  object\n",
            " 6   socialEngagementType  903653 non-null  object\n",
            " 7   totals                903653 non-null  object\n",
            " 8   trafficSource         903653 non-null  object\n",
            " 9   visitId               903653 non-null  int64 \n",
            " 10  visitNumber           903653 non-null  int64 \n",
            " 11  visitStartTime        903653 non-null  int64 \n",
            "dtypes: int64(4), object(8)\n",
            "memory usage: 82.7+ MB\n"
          ]
        }
      ]
    },
    {
      "cell_type": "code",
      "metadata": {
        "colab": {
          "base_uri": "https://localhost:8080/"
        },
        "id": "MV21d_ArQs4w",
        "outputId": "108de465-d32a-4969-84d0-a021d7e4da22"
      },
      "source": [
        "train_df.shape"
      ],
      "execution_count": 10,
      "outputs": [
        {
          "output_type": "execute_result",
          "data": {
            "text/plain": [
              "(903653, 12)"
            ]
          },
          "metadata": {},
          "execution_count": 10
        }
      ]
    },
    {
      "cell_type": "code",
      "metadata": {
        "colab": {
          "base_uri": "https://localhost:8080/",
          "height": 510
        },
        "id": "L7NKV9H9QxhP",
        "outputId": "2453e2df-51ff-49a0-8b47-012b782e2f4b"
      },
      "source": [
        "train_df.head(5)"
      ],
      "execution_count": 11,
      "outputs": [
        {
          "output_type": "execute_result",
          "data": {
            "text/plain": [
              "  channelGrouping      date  \\\n",
              "0  Organic Search  20160902   \n",
              "1  Organic Search  20160902   \n",
              "2  Organic Search  20160902   \n",
              "3  Organic Search  20160902   \n",
              "4  Organic Search  20160902   \n",
              "\n",
              "                                              device        fullVisitorId  \\\n",
              "0  {\"browser\": \"Chrome\", \"browserVersion\": \"not a...  1131660440785968503   \n",
              "1  {\"browser\": \"Firefox\", \"browserVersion\": \"not ...   377306020877927890   \n",
              "2  {\"browser\": \"Chrome\", \"browserVersion\": \"not a...  3895546263509774583   \n",
              "3  {\"browser\": \"UC Browser\", \"browserVersion\": \"n...  4763447161404445595   \n",
              "4  {\"browser\": \"Chrome\", \"browserVersion\": \"not a...    27294437909732085   \n",
              "\n",
              "                                          geoNetwork  \\\n",
              "0  {\"continent\": \"Asia\", \"subContinent\": \"Western...   \n",
              "1  {\"continent\": \"Oceania\", \"subContinent\": \"Aust...   \n",
              "2  {\"continent\": \"Europe\", \"subContinent\": \"South...   \n",
              "3  {\"continent\": \"Asia\", \"subContinent\": \"Southea...   \n",
              "4  {\"continent\": \"Europe\", \"subContinent\": \"North...   \n",
              "\n",
              "                        sessionId  socialEngagementType  \\\n",
              "0  1131660440785968503_1472830385  Not Socially Engaged   \n",
              "1   377306020877927890_1472880147  Not Socially Engaged   \n",
              "2  3895546263509774583_1472865386  Not Socially Engaged   \n",
              "3  4763447161404445595_1472881213  Not Socially Engaged   \n",
              "4    27294437909732085_1472822600  Not Socially Engaged   \n",
              "\n",
              "                                              totals  \\\n",
              "0  {\"visits\": \"1\", \"hits\": \"1\", \"pageviews\": \"1\",...   \n",
              "1  {\"visits\": \"1\", \"hits\": \"1\", \"pageviews\": \"1\",...   \n",
              "2  {\"visits\": \"1\", \"hits\": \"1\", \"pageviews\": \"1\",...   \n",
              "3  {\"visits\": \"1\", \"hits\": \"1\", \"pageviews\": \"1\",...   \n",
              "4  {\"visits\": \"1\", \"hits\": \"1\", \"pageviews\": \"1\",...   \n",
              "\n",
              "                                       trafficSource     visitId  visitNumber  \\\n",
              "0  {\"campaign\": \"(not set)\", \"source\": \"google\", ...  1472830385            1   \n",
              "1  {\"campaign\": \"(not set)\", \"source\": \"google\", ...  1472880147            1   \n",
              "2  {\"campaign\": \"(not set)\", \"source\": \"google\", ...  1472865386            1   \n",
              "3  {\"campaign\": \"(not set)\", \"source\": \"google\", ...  1472881213            1   \n",
              "4  {\"campaign\": \"(not set)\", \"source\": \"google\", ...  1472822600            2   \n",
              "\n",
              "   visitStartTime  \n",
              "0      1472830385  \n",
              "1      1472880147  \n",
              "2      1472865386  \n",
              "3      1472881213  \n",
              "4      1472822600  "
            ],
            "text/html": [
              "\n",
              "  <div id=\"df-cb2cebab-48b9-4b30-bb07-403c4bb8490b\">\n",
              "    <div class=\"colab-df-container\">\n",
              "      <div>\n",
              "<style scoped>\n",
              "    .dataframe tbody tr th:only-of-type {\n",
              "        vertical-align: middle;\n",
              "    }\n",
              "\n",
              "    .dataframe tbody tr th {\n",
              "        vertical-align: top;\n",
              "    }\n",
              "\n",
              "    .dataframe thead th {\n",
              "        text-align: right;\n",
              "    }\n",
              "</style>\n",
              "<table border=\"1\" class=\"dataframe\">\n",
              "  <thead>\n",
              "    <tr style=\"text-align: right;\">\n",
              "      <th></th>\n",
              "      <th>channelGrouping</th>\n",
              "      <th>date</th>\n",
              "      <th>device</th>\n",
              "      <th>fullVisitorId</th>\n",
              "      <th>geoNetwork</th>\n",
              "      <th>sessionId</th>\n",
              "      <th>socialEngagementType</th>\n",
              "      <th>totals</th>\n",
              "      <th>trafficSource</th>\n",
              "      <th>visitId</th>\n",
              "      <th>visitNumber</th>\n",
              "      <th>visitStartTime</th>\n",
              "    </tr>\n",
              "  </thead>\n",
              "  <tbody>\n",
              "    <tr>\n",
              "      <th>0</th>\n",
              "      <td>Organic Search</td>\n",
              "      <td>20160902</td>\n",
              "      <td>{\"browser\": \"Chrome\", \"browserVersion\": \"not a...</td>\n",
              "      <td>1131660440785968503</td>\n",
              "      <td>{\"continent\": \"Asia\", \"subContinent\": \"Western...</td>\n",
              "      <td>1131660440785968503_1472830385</td>\n",
              "      <td>Not Socially Engaged</td>\n",
              "      <td>{\"visits\": \"1\", \"hits\": \"1\", \"pageviews\": \"1\",...</td>\n",
              "      <td>{\"campaign\": \"(not set)\", \"source\": \"google\", ...</td>\n",
              "      <td>1472830385</td>\n",
              "      <td>1</td>\n",
              "      <td>1472830385</td>\n",
              "    </tr>\n",
              "    <tr>\n",
              "      <th>1</th>\n",
              "      <td>Organic Search</td>\n",
              "      <td>20160902</td>\n",
              "      <td>{\"browser\": \"Firefox\", \"browserVersion\": \"not ...</td>\n",
              "      <td>377306020877927890</td>\n",
              "      <td>{\"continent\": \"Oceania\", \"subContinent\": \"Aust...</td>\n",
              "      <td>377306020877927890_1472880147</td>\n",
              "      <td>Not Socially Engaged</td>\n",
              "      <td>{\"visits\": \"1\", \"hits\": \"1\", \"pageviews\": \"1\",...</td>\n",
              "      <td>{\"campaign\": \"(not set)\", \"source\": \"google\", ...</td>\n",
              "      <td>1472880147</td>\n",
              "      <td>1</td>\n",
              "      <td>1472880147</td>\n",
              "    </tr>\n",
              "    <tr>\n",
              "      <th>2</th>\n",
              "      <td>Organic Search</td>\n",
              "      <td>20160902</td>\n",
              "      <td>{\"browser\": \"Chrome\", \"browserVersion\": \"not a...</td>\n",
              "      <td>3895546263509774583</td>\n",
              "      <td>{\"continent\": \"Europe\", \"subContinent\": \"South...</td>\n",
              "      <td>3895546263509774583_1472865386</td>\n",
              "      <td>Not Socially Engaged</td>\n",
              "      <td>{\"visits\": \"1\", \"hits\": \"1\", \"pageviews\": \"1\",...</td>\n",
              "      <td>{\"campaign\": \"(not set)\", \"source\": \"google\", ...</td>\n",
              "      <td>1472865386</td>\n",
              "      <td>1</td>\n",
              "      <td>1472865386</td>\n",
              "    </tr>\n",
              "    <tr>\n",
              "      <th>3</th>\n",
              "      <td>Organic Search</td>\n",
              "      <td>20160902</td>\n",
              "      <td>{\"browser\": \"UC Browser\", \"browserVersion\": \"n...</td>\n",
              "      <td>4763447161404445595</td>\n",
              "      <td>{\"continent\": \"Asia\", \"subContinent\": \"Southea...</td>\n",
              "      <td>4763447161404445595_1472881213</td>\n",
              "      <td>Not Socially Engaged</td>\n",
              "      <td>{\"visits\": \"1\", \"hits\": \"1\", \"pageviews\": \"1\",...</td>\n",
              "      <td>{\"campaign\": \"(not set)\", \"source\": \"google\", ...</td>\n",
              "      <td>1472881213</td>\n",
              "      <td>1</td>\n",
              "      <td>1472881213</td>\n",
              "    </tr>\n",
              "    <tr>\n",
              "      <th>4</th>\n",
              "      <td>Organic Search</td>\n",
              "      <td>20160902</td>\n",
              "      <td>{\"browser\": \"Chrome\", \"browserVersion\": \"not a...</td>\n",
              "      <td>27294437909732085</td>\n",
              "      <td>{\"continent\": \"Europe\", \"subContinent\": \"North...</td>\n",
              "      <td>27294437909732085_1472822600</td>\n",
              "      <td>Not Socially Engaged</td>\n",
              "      <td>{\"visits\": \"1\", \"hits\": \"1\", \"pageviews\": \"1\",...</td>\n",
              "      <td>{\"campaign\": \"(not set)\", \"source\": \"google\", ...</td>\n",
              "      <td>1472822600</td>\n",
              "      <td>2</td>\n",
              "      <td>1472822600</td>\n",
              "    </tr>\n",
              "  </tbody>\n",
              "</table>\n",
              "</div>\n",
              "      <button class=\"colab-df-convert\" onclick=\"convertToInteractive('df-cb2cebab-48b9-4b30-bb07-403c4bb8490b')\"\n",
              "              title=\"Convert this dataframe to an interactive table.\"\n",
              "              style=\"display:none;\">\n",
              "        \n",
              "  <svg xmlns=\"http://www.w3.org/2000/svg\" height=\"24px\"viewBox=\"0 0 24 24\"\n",
              "       width=\"24px\">\n",
              "    <path d=\"M0 0h24v24H0V0z\" fill=\"none\"/>\n",
              "    <path d=\"M18.56 5.44l.94 2.06.94-2.06 2.06-.94-2.06-.94-.94-2.06-.94 2.06-2.06.94zm-11 1L8.5 8.5l.94-2.06 2.06-.94-2.06-.94L8.5 2.5l-.94 2.06-2.06.94zm10 10l.94 2.06.94-2.06 2.06-.94-2.06-.94-.94-2.06-.94 2.06-2.06.94z\"/><path d=\"M17.41 7.96l-1.37-1.37c-.4-.4-.92-.59-1.43-.59-.52 0-1.04.2-1.43.59L10.3 9.45l-7.72 7.72c-.78.78-.78 2.05 0 2.83L4 21.41c.39.39.9.59 1.41.59.51 0 1.02-.2 1.41-.59l7.78-7.78 2.81-2.81c.8-.78.8-2.07 0-2.86zM5.41 20L4 18.59l7.72-7.72 1.47 1.35L5.41 20z\"/>\n",
              "  </svg>\n",
              "      </button>\n",
              "      \n",
              "  <style>\n",
              "    .colab-df-container {\n",
              "      display:flex;\n",
              "      flex-wrap:wrap;\n",
              "      gap: 12px;\n",
              "    }\n",
              "\n",
              "    .colab-df-convert {\n",
              "      background-color: #E8F0FE;\n",
              "      border: none;\n",
              "      border-radius: 50%;\n",
              "      cursor: pointer;\n",
              "      display: none;\n",
              "      fill: #1967D2;\n",
              "      height: 32px;\n",
              "      padding: 0 0 0 0;\n",
              "      width: 32px;\n",
              "    }\n",
              "\n",
              "    .colab-df-convert:hover {\n",
              "      background-color: #E2EBFA;\n",
              "      box-shadow: 0px 1px 2px rgba(60, 64, 67, 0.3), 0px 1px 3px 1px rgba(60, 64, 67, 0.15);\n",
              "      fill: #174EA6;\n",
              "    }\n",
              "\n",
              "    [theme=dark] .colab-df-convert {\n",
              "      background-color: #3B4455;\n",
              "      fill: #D2E3FC;\n",
              "    }\n",
              "\n",
              "    [theme=dark] .colab-df-convert:hover {\n",
              "      background-color: #434B5C;\n",
              "      box-shadow: 0px 1px 3px 1px rgba(0, 0, 0, 0.15);\n",
              "      filter: drop-shadow(0px 1px 2px rgba(0, 0, 0, 0.3));\n",
              "      fill: #FFFFFF;\n",
              "    }\n",
              "  </style>\n",
              "\n",
              "      <script>\n",
              "        const buttonEl =\n",
              "          document.querySelector('#df-cb2cebab-48b9-4b30-bb07-403c4bb8490b button.colab-df-convert');\n",
              "        buttonEl.style.display =\n",
              "          google.colab.kernel.accessAllowed ? 'block' : 'none';\n",
              "\n",
              "        async function convertToInteractive(key) {\n",
              "          const element = document.querySelector('#df-cb2cebab-48b9-4b30-bb07-403c4bb8490b');\n",
              "          const dataTable =\n",
              "            await google.colab.kernel.invokeFunction('convertToInteractive',\n",
              "                                                     [key], {});\n",
              "          if (!dataTable) return;\n",
              "\n",
              "          const docLinkHtml = 'Like what you see? Visit the ' +\n",
              "            '<a target=\"_blank\" href=https://colab.research.google.com/notebooks/data_table.ipynb>data table notebook</a>'\n",
              "            + ' to learn more about interactive tables.';\n",
              "          element.innerHTML = '';\n",
              "          dataTable['output_type'] = 'display_data';\n",
              "          await google.colab.output.renderOutput(dataTable, element);\n",
              "          const docLink = document.createElement('div');\n",
              "          docLink.innerHTML = docLinkHtml;\n",
              "          element.appendChild(docLink);\n",
              "        }\n",
              "      </script>\n",
              "    </div>\n",
              "  </div>\n",
              "  "
            ]
          },
          "metadata": {},
          "execution_count": 11
        }
      ]
    },
    {
      "cell_type": "markdown",
      "metadata": {
        "id": "zrWU3mlSgpX1"
      },
      "source": [
        "### Optimizing data types"
      ]
    },
    {
      "cell_type": "code",
      "metadata": {
        "id": "NXLzZstZVDiH"
      },
      "source": [
        "dtypes = {\n",
        "    \"channelGrouping\": \"str\",\n",
        "    \"date\": \"int16\",\n",
        "    \"device\": \"str\",\n",
        "    \"fullVisitorId\": \"str\",\n",
        "    \"geoNetwork\": \"str\",\n",
        "    \"sessionId\": \"str\",\n",
        "    \"socialEngagementType\": \"str\",\n",
        "    \"totals\": \"str\",\n",
        "    \"trafficSource\": \"str\", \n",
        "    \"visitId\": \"uint16\",\n",
        "    \"visitNumber\": \"int16\",\n",
        "    \"visitStartTime\": \"uint16\"   \n",
        "}"
      ],
      "execution_count": 12,
      "outputs": []
    },
    {
      "cell_type": "code",
      "metadata": {
        "id": "Ggj6gTBcVv_I"
      },
      "source": [
        "train_new_df = pd.read_csv(\"./datasets/train.csv\", dtype = dtypes)"
      ],
      "execution_count": 13,
      "outputs": []
    },
    {
      "cell_type": "code",
      "metadata": {
        "colab": {
          "base_uri": "https://localhost:8080/"
        },
        "id": "iyyGZawVWDEt",
        "outputId": "f6c9b002-2e7f-49e0-f66f-52f329978fdb"
      },
      "source": [
        "train_new_df.info()"
      ],
      "execution_count": 14,
      "outputs": [
        {
          "output_type": "stream",
          "name": "stdout",
          "text": [
            "<class 'pandas.core.frame.DataFrame'>\n",
            "RangeIndex: 903653 entries, 0 to 903652\n",
            "Data columns (total 12 columns):\n",
            " #   Column                Non-Null Count   Dtype \n",
            "---  ------                --------------   ----- \n",
            " 0   channelGrouping       903653 non-null  object\n",
            " 1   date                  903653 non-null  int16 \n",
            " 2   device                903653 non-null  object\n",
            " 3   fullVisitorId         903653 non-null  object\n",
            " 4   geoNetwork            903653 non-null  object\n",
            " 5   sessionId             903653 non-null  object\n",
            " 6   socialEngagementType  903653 non-null  object\n",
            " 7   totals                903653 non-null  object\n",
            " 8   trafficSource         903653 non-null  object\n",
            " 9   visitId               903653 non-null  uint16\n",
            " 10  visitNumber           903653 non-null  int16 \n",
            " 11  visitStartTime        903653 non-null  uint16\n",
            "dtypes: int16(2), object(8), uint16(2)\n",
            "memory usage: 62.0+ MB\n"
          ]
        }
      ]
    },
    {
      "cell_type": "markdown",
      "metadata": {
        "id": "MnQKvvUOguAY"
      },
      "source": [
        "### Creating other file formats "
      ]
    },
    {
      "cell_type": "code",
      "metadata": {
        "id": "BjQykrCBQzM3"
      },
      "source": [
        "train_new_df.to_pickle(\"./datasets/train.pkl\")"
      ],
      "execution_count": 15,
      "outputs": []
    },
    {
      "cell_type": "code",
      "metadata": {
        "colab": {
          "base_uri": "https://localhost:8080/"
        },
        "id": "O5z_S0GOSzXF",
        "outputId": "e2409c4f-fd5d-4c2c-9dbb-069e390545aa"
      },
      "source": [
        "ls -al datasets/"
      ],
      "execution_count": 16,
      "outputs": [
        {
          "output_type": "stream",
          "name": "stdout",
          "text": [
            "total 3050344\n",
            "drwxr-xr-x 2 root root       4096 Jun 23 07:11 \u001b[0m\u001b[01;34m.\u001b[0m/\n",
            "drwxr-xr-x 1 root root       4096 Jun 23 07:09 \u001b[01;34m..\u001b[0m/\n",
            "---------- 1 root root   14739065 Sep 11  2018 sample_submission.csv\n",
            "-rw-r--r-- 1 root root  121693383 Jun 23 07:09 sigma.zip\n",
            "---------- 1 root root 1346845550 Sep 11  2018 test.csv\n",
            "---------- 1 root root 1503430926 Sep 11  2018 train.csv\n",
            "-rw-r--r-- 1 root root  136817990 Jun 23 07:11 train.pkl\n"
          ]
        }
      ]
    },
    {
      "cell_type": "code",
      "metadata": {
        "id": "UvnM4vY5TCRK"
      },
      "source": [
        "train_new_df.to_parquet(\"./datasets/train.parquet\")"
      ],
      "execution_count": 18,
      "outputs": []
    },
    {
      "cell_type": "code",
      "metadata": {
        "colab": {
          "base_uri": "https://localhost:8080/"
        },
        "id": "L6aDiRJUWOb5",
        "outputId": "aae30165-b9aa-43b6-dbe6-4eb7940d06e3"
      },
      "source": [
        "!ls -al datasets/"
      ],
      "execution_count": 19,
      "outputs": [
        {
          "output_type": "stream",
          "name": "stdout",
          "text": [
            "total 3137912\n",
            "drwxr-xr-x 2 root root       4096 Jun 23 07:11 .\n",
            "drwxr-xr-x 1 root root       4096 Jun 23 07:09 ..\n",
            "---------- 1 root root   14739065 Sep 11  2018 sample_submission.csv\n",
            "-rw-r--r-- 1 root root  121693383 Jun 23 07:09 sigma.zip\n",
            "---------- 1 root root 1346845550 Sep 11  2018 test.csv\n",
            "---------- 1 root root 1503430926 Sep 11  2018 train.csv\n",
            "-rw-r--r-- 1 root root   89669570 Jun 23 07:11 train.parquet\n",
            "-rw-r--r-- 1 root root  136817990 Jun 23 07:11 train.pkl\n"
          ]
        }
      ]
    },
    {
      "cell_type": "markdown",
      "source": [
        "### Comparing file sizes of different formats"
      ],
      "metadata": {
        "id": "6HTuJ3cHa_nR"
      }
    },
    {
      "cell_type": "code",
      "metadata": {
        "id": "-G-Gid3kJ5Vn"
      },
      "source": [
        "filenames = ['./datasets/train.csv', \n",
        "             './datasets/train.pkl', \n",
        "             './datasets/train.parquet']\n",
        "\n",
        "all_filesizes = [os.path.getsize(f) for f in filenames]             \n",
        " \n",
        "filescompare_df = pd.DataFrame( { \"formats\" : filenames,\n",
        "                                  \"filesize\": all_filesizes})"
      ],
      "execution_count": 21,
      "outputs": []
    },
    {
      "cell_type": "code",
      "metadata": {
        "colab": {
          "base_uri": "https://localhost:8080/",
          "height": 143
        },
        "id": "pJupx-VFKpSl",
        "outputId": "78a4675f-c35d-41e7-e968-bf51fc5e4c11"
      },
      "source": [
        "filescompare_df"
      ],
      "execution_count": 22,
      "outputs": [
        {
          "output_type": "execute_result",
          "data": {
            "text/plain": [
              "                    formats    filesize\n",
              "0      ./datasets/train.csv  1503430926\n",
              "1      ./datasets/train.pkl   136817990\n",
              "2  ./datasets/train.parquet    89669570"
            ],
            "text/html": [
              "\n",
              "  <div id=\"df-3ee80a9a-867a-4e3a-af32-87f0c8984bed\">\n",
              "    <div class=\"colab-df-container\">\n",
              "      <div>\n",
              "<style scoped>\n",
              "    .dataframe tbody tr th:only-of-type {\n",
              "        vertical-align: middle;\n",
              "    }\n",
              "\n",
              "    .dataframe tbody tr th {\n",
              "        vertical-align: top;\n",
              "    }\n",
              "\n",
              "    .dataframe thead th {\n",
              "        text-align: right;\n",
              "    }\n",
              "</style>\n",
              "<table border=\"1\" class=\"dataframe\">\n",
              "  <thead>\n",
              "    <tr style=\"text-align: right;\">\n",
              "      <th></th>\n",
              "      <th>formats</th>\n",
              "      <th>filesize</th>\n",
              "    </tr>\n",
              "  </thead>\n",
              "  <tbody>\n",
              "    <tr>\n",
              "      <th>0</th>\n",
              "      <td>./datasets/train.csv</td>\n",
              "      <td>1503430926</td>\n",
              "    </tr>\n",
              "    <tr>\n",
              "      <th>1</th>\n",
              "      <td>./datasets/train.pkl</td>\n",
              "      <td>136817990</td>\n",
              "    </tr>\n",
              "    <tr>\n",
              "      <th>2</th>\n",
              "      <td>./datasets/train.parquet</td>\n",
              "      <td>89669570</td>\n",
              "    </tr>\n",
              "  </tbody>\n",
              "</table>\n",
              "</div>\n",
              "      <button class=\"colab-df-convert\" onclick=\"convertToInteractive('df-3ee80a9a-867a-4e3a-af32-87f0c8984bed')\"\n",
              "              title=\"Convert this dataframe to an interactive table.\"\n",
              "              style=\"display:none;\">\n",
              "        \n",
              "  <svg xmlns=\"http://www.w3.org/2000/svg\" height=\"24px\"viewBox=\"0 0 24 24\"\n",
              "       width=\"24px\">\n",
              "    <path d=\"M0 0h24v24H0V0z\" fill=\"none\"/>\n",
              "    <path d=\"M18.56 5.44l.94 2.06.94-2.06 2.06-.94-2.06-.94-.94-2.06-.94 2.06-2.06.94zm-11 1L8.5 8.5l.94-2.06 2.06-.94-2.06-.94L8.5 2.5l-.94 2.06-2.06.94zm10 10l.94 2.06.94-2.06 2.06-.94-2.06-.94-.94-2.06-.94 2.06-2.06.94z\"/><path d=\"M17.41 7.96l-1.37-1.37c-.4-.4-.92-.59-1.43-.59-.52 0-1.04.2-1.43.59L10.3 9.45l-7.72 7.72c-.78.78-.78 2.05 0 2.83L4 21.41c.39.39.9.59 1.41.59.51 0 1.02-.2 1.41-.59l7.78-7.78 2.81-2.81c.8-.78.8-2.07 0-2.86zM5.41 20L4 18.59l7.72-7.72 1.47 1.35L5.41 20z\"/>\n",
              "  </svg>\n",
              "      </button>\n",
              "      \n",
              "  <style>\n",
              "    .colab-df-container {\n",
              "      display:flex;\n",
              "      flex-wrap:wrap;\n",
              "      gap: 12px;\n",
              "    }\n",
              "\n",
              "    .colab-df-convert {\n",
              "      background-color: #E8F0FE;\n",
              "      border: none;\n",
              "      border-radius: 50%;\n",
              "      cursor: pointer;\n",
              "      display: none;\n",
              "      fill: #1967D2;\n",
              "      height: 32px;\n",
              "      padding: 0 0 0 0;\n",
              "      width: 32px;\n",
              "    }\n",
              "\n",
              "    .colab-df-convert:hover {\n",
              "      background-color: #E2EBFA;\n",
              "      box-shadow: 0px 1px 2px rgba(60, 64, 67, 0.3), 0px 1px 3px 1px rgba(60, 64, 67, 0.15);\n",
              "      fill: #174EA6;\n",
              "    }\n",
              "\n",
              "    [theme=dark] .colab-df-convert {\n",
              "      background-color: #3B4455;\n",
              "      fill: #D2E3FC;\n",
              "    }\n",
              "\n",
              "    [theme=dark] .colab-df-convert:hover {\n",
              "      background-color: #434B5C;\n",
              "      box-shadow: 0px 1px 3px 1px rgba(0, 0, 0, 0.15);\n",
              "      filter: drop-shadow(0px 1px 2px rgba(0, 0, 0, 0.3));\n",
              "      fill: #FFFFFF;\n",
              "    }\n",
              "  </style>\n",
              "\n",
              "      <script>\n",
              "        const buttonEl =\n",
              "          document.querySelector('#df-3ee80a9a-867a-4e3a-af32-87f0c8984bed button.colab-df-convert');\n",
              "        buttonEl.style.display =\n",
              "          google.colab.kernel.accessAllowed ? 'block' : 'none';\n",
              "\n",
              "        async function convertToInteractive(key) {\n",
              "          const element = document.querySelector('#df-3ee80a9a-867a-4e3a-af32-87f0c8984bed');\n",
              "          const dataTable =\n",
              "            await google.colab.kernel.invokeFunction('convertToInteractive',\n",
              "                                                     [key], {});\n",
              "          if (!dataTable) return;\n",
              "\n",
              "          const docLinkHtml = 'Like what you see? Visit the ' +\n",
              "            '<a target=\"_blank\" href=https://colab.research.google.com/notebooks/data_table.ipynb>data table notebook</a>'\n",
              "            + ' to learn more about interactive tables.';\n",
              "          element.innerHTML = '';\n",
              "          dataTable['output_type'] = 'display_data';\n",
              "          await google.colab.output.renderOutput(dataTable, element);\n",
              "          const docLink = document.createElement('div');\n",
              "          docLink.innerHTML = docLinkHtml;\n",
              "          element.appendChild(docLink);\n",
              "        }\n",
              "      </script>\n",
              "    </div>\n",
              "  </div>\n",
              "  "
            ]
          },
          "metadata": {},
          "execution_count": 22
        }
      ]
    },
    {
      "cell_type": "code",
      "metadata": {
        "id": "Z_MVfF1fNQv-"
      },
      "source": [
        "import matplotlib.pyplot as plt\n",
        "import seaborn as sn"
      ],
      "execution_count": 23,
      "outputs": []
    },
    {
      "cell_type": "code",
      "metadata": {
        "colab": {
          "base_uri": "https://localhost:8080/",
          "height": 345
        },
        "id": "inP_9hDJNSuX",
        "outputId": "e88360cd-385d-4a45-81c8-6befaff53716"
      },
      "source": [
        "plt.figure( figsize = (15, 5) )\n",
        "sn.barplot( data = filescompare_df,\n",
        "           x = 'formats',\n",
        "           y = 'filesize');"
      ],
      "execution_count": 24,
      "outputs": [
        {
          "output_type": "display_data",
          "data": {
            "text/plain": [
              "<Figure size 1080x360 with 1 Axes>"
            ],
            "image/png": "[encoded data removed]"
          },
          "metadata": {
            "needs_background": "light"
          }
        }
      ]
    },
    {
      "cell_type": "markdown",
      "metadata": {
        "id": "gUQ14AJrnIGb"
      },
      "source": [
        "### Read time benchmarking of different formats"
      ]
    },
    {
      "cell_type": "code",
      "metadata": {
        "colab": {
          "base_uri": "https://localhost:8080/"
        },
        "id": "V-SLEvE6WYna",
        "outputId": "d971ae5c-cb4f-4199-b55a-c9792f132895"
      },
      "source": [
        "%%time \n",
        "\n",
        "train_pkl_df = pd.read_pickle(\"./datasets/train.pkl\")"
      ],
      "execution_count": 25,
      "outputs": [
        {
          "output_type": "stream",
          "name": "stdout",
          "text": [
            "CPU times: user 424 ms, sys: 160 ms, total: 584 ms\n",
            "Wall time: 578 ms\n"
          ]
        }
      ]
    },
    {
      "cell_type": "code",
      "metadata": {
        "colab": {
          "base_uri": "https://localhost:8080/"
        },
        "id": "ePnu9eQNWvE_",
        "outputId": "e8475556-ca4c-4e03-9bb5-3081ade8817d"
      },
      "source": [
        "%%time \n",
        "\n",
        "train_parquet_df = pd.read_parquet(\"./datasets/train.parquet\")"
      ],
      "execution_count": 26,
      "outputs": [
        {
          "output_type": "stream",
          "name": "stdout",
          "text": [
            "CPU times: user 1.85 s, sys: 1.56 s, total: 3.41 s\n",
            "Wall time: 2.96 s\n"
          ]
        }
      ]
    },
    {
      "cell_type": "code",
      "metadata": {
        "colab": {
          "base_uri": "https://localhost:8080/"
        },
        "id": "zDLLU-plLK0a",
        "outputId": "f7de95b0-a1f5-458e-f12e-ec26b2815297"
      },
      "source": [
        "import time\n",
        "\n",
        "t1 = time.perf_counter()\n",
        "train_df = pd.read_csv(\"./datasets/train.csv\")\n",
        "time_csv = time.perf_counter() - t1\n",
        "\n",
        "t1 = time.perf_counter()\n",
        "train_pkl_df = pd.read_pickle(\"./datasets/train.pkl\")\n",
        "time_pkl = time.perf_counter() - t1\n",
        "\n",
        "t1 = time.perf_counter()\n",
        "train_parquet_df = pd.read_parquet(\"./datasets/train.parquet\")\n",
        "time_parquet = time.perf_counter() - t1"
      ],
      "execution_count": 27,
      "outputs": [
        {
          "output_type": "stream",
          "name": "stderr",
          "text": [
            "/usr/local/lib/python3.7/dist-packages/IPython/core/interactiveshell.py:2882: DtypeWarning: Columns (3) have mixed types.Specify dtype option on import or set low_memory=False.\n",
            "  exec(code_obj, self.user_global_ns, self.user_ns)\n"
          ]
        }
      ]
    },
    {
      "cell_type": "code",
      "metadata": {
        "id": "oBnfcagSNASZ"
      },
      "source": [
        "filescompare_df['read_time'] = [time_csv, time_pkl, time_parquet]"
      ],
      "execution_count": 30,
      "outputs": []
    },
    {
      "cell_type": "code",
      "metadata": {
        "colab": {
          "base_uri": "https://localhost:8080/",
          "height": 143
        },
        "id": "YdR1rq93NOEh",
        "outputId": "2313fb00-9f8c-4cca-f062-fc2512f112dc"
      },
      "source": [
        "filescompare_df"
      ],
      "execution_count": 31,
      "outputs": [
        {
          "output_type": "execute_result",
          "data": {
            "text/plain": [
              "                    formats    filesize  read_time\n",
              "0      ./datasets/train.csv  1503430926  10.532994\n",
              "1      ./datasets/train.pkl   136817990   0.572166\n",
              "2  ./datasets/train.parquet    89669570   2.007003"
            ],
            "text/html": [
              "\n",
              "  <div id=\"df-8e68cae4-ab23-4772-a6ad-8ef9d4480b89\">\n",
              "    <div class=\"colab-df-container\">\n",
              "      <div>\n",
              "<style scoped>\n",
              "    .dataframe tbody tr th:only-of-type {\n",
              "        vertical-align: middle;\n",
              "    }\n",
              "\n",
              "    .dataframe tbody tr th {\n",
              "        vertical-align: top;\n",
              "    }\n",
              "\n",
              "    .dataframe thead th {\n",
              "        text-align: right;\n",
              "    }\n",
              "</style>\n",
              "<table border=\"1\" class=\"dataframe\">\n",
              "  <thead>\n",
              "    <tr style=\"text-align: right;\">\n",
              "      <th></th>\n",
              "      <th>formats</th>\n",
              "      <th>filesize</th>\n",
              "      <th>read_time</th>\n",
              "    </tr>\n",
              "  </thead>\n",
              "  <tbody>\n",
              "    <tr>\n",
              "      <th>0</th>\n",
              "      <td>./datasets/train.csv</td>\n",
              "      <td>1503430926</td>\n",
              "      <td>10.532994</td>\n",
              "    </tr>\n",
              "    <tr>\n",
              "      <th>1</th>\n",
              "      <td>./datasets/train.pkl</td>\n",
              "      <td>136817990</td>\n",
              "      <td>0.572166</td>\n",
              "    </tr>\n",
              "    <tr>\n",
              "      <th>2</th>\n",
              "      <td>./datasets/train.parquet</td>\n",
              "      <td>89669570</td>\n",
              "      <td>2.007003</td>\n",
              "    </tr>\n",
              "  </tbody>\n",
              "</table>\n",
              "</div>\n",
              "      <button class=\"colab-df-convert\" onclick=\"convertToInteractive('df-8e68cae4-ab23-4772-a6ad-8ef9d4480b89')\"\n",
              "              title=\"Convert this dataframe to an interactive table.\"\n",
              "              style=\"display:none;\">\n",
              "        \n",
              "  <svg xmlns=\"http://www.w3.org/2000/svg\" height=\"24px\"viewBox=\"0 0 24 24\"\n",
              "       width=\"24px\">\n",
              "    <path d=\"M0 0h24v24H0V0z\" fill=\"none\"/>\n",
              "    <path d=\"M18.56 5.44l.94 2.06.94-2.06 2.06-.94-2.06-.94-.94-2.06-.94 2.06-2.06.94zm-11 1L8.5 8.5l.94-2.06 2.06-.94-2.06-.94L8.5 2.5l-.94 2.06-2.06.94zm10 10l.94 2.06.94-2.06 2.06-.94-2.06-.94-.94-2.06-.94 2.06-2.06.94z\"/><path d=\"M17.41 7.96l-1.37-1.37c-.4-.4-.92-.59-1.43-.59-.52 0-1.04.2-1.43.59L10.3 9.45l-7.72 7.72c-.78.78-.78 2.05 0 2.83L4 21.41c.39.39.9.59 1.41.59.51 0 1.02-.2 1.41-.59l7.78-7.78 2.81-2.81c.8-.78.8-2.07 0-2.86zM5.41 20L4 18.59l7.72-7.72 1.47 1.35L5.41 20z\"/>\n",
              "  </svg>\n",
              "      </button>\n",
              "      \n",
              "  <style>\n",
              "    .colab-df-container {\n",
              "      display:flex;\n",
              "      flex-wrap:wrap;\n",
              "      gap: 12px;\n",
              "    }\n",
              "\n",
              "    .colab-df-convert {\n",
              "      background-color: #E8F0FE;\n",
              "      border: none;\n",
              "      border-radius: 50%;\n",
              "      cursor: pointer;\n",
              "      display: none;\n",
              "      fill: #1967D2;\n",
              "      height: 32px;\n",
              "      padding: 0 0 0 0;\n",
              "      width: 32px;\n",
              "    }\n",
              "\n",
              "    .colab-df-convert:hover {\n",
              "      background-color: #E2EBFA;\n",
              "      box-shadow: 0px 1px 2px rgba(60, 64, 67, 0.3), 0px 1px 3px 1px rgba(60, 64, 67, 0.15);\n",
              "      fill: #174EA6;\n",
              "    }\n",
              "\n",
              "    [theme=dark] .colab-df-convert {\n",
              "      background-color: #3B4455;\n",
              "      fill: #D2E3FC;\n",
              "    }\n",
              "\n",
              "    [theme=dark] .colab-df-convert:hover {\n",
              "      background-color: #434B5C;\n",
              "      box-shadow: 0px 1px 3px 1px rgba(0, 0, 0, 0.15);\n",
              "      filter: drop-shadow(0px 1px 2px rgba(0, 0, 0, 0.3));\n",
              "      fill: #FFFFFF;\n",
              "    }\n",
              "  </style>\n",
              "\n",
              "      <script>\n",
              "        const buttonEl =\n",
              "          document.querySelector('#df-8e68cae4-ab23-4772-a6ad-8ef9d4480b89 button.colab-df-convert');\n",
              "        buttonEl.style.display =\n",
              "          google.colab.kernel.accessAllowed ? 'block' : 'none';\n",
              "\n",
              "        async function convertToInteractive(key) {\n",
              "          const element = document.querySelector('#df-8e68cae4-ab23-4772-a6ad-8ef9d4480b89');\n",
              "          const dataTable =\n",
              "            await google.colab.kernel.invokeFunction('convertToInteractive',\n",
              "                                                     [key], {});\n",
              "          if (!dataTable) return;\n",
              "\n",
              "          const docLinkHtml = 'Like what you see? Visit the ' +\n",
              "            '<a target=\"_blank\" href=https://colab.research.google.com/notebooks/data_table.ipynb>data table notebook</a>'\n",
              "            + ' to learn more about interactive tables.';\n",
              "          element.innerHTML = '';\n",
              "          dataTable['output_type'] = 'display_data';\n",
              "          await google.colab.output.renderOutput(dataTable, element);\n",
              "          const docLink = document.createElement('div');\n",
              "          docLink.innerHTML = docLinkHtml;\n",
              "          element.appendChild(docLink);\n",
              "        }\n",
              "      </script>\n",
              "    </div>\n",
              "  </div>\n",
              "  "
            ]
          },
          "metadata": {},
          "execution_count": 31
        }
      ]
    },
    {
      "cell_type": "code",
      "metadata": {
        "colab": {
          "base_uri": "https://localhost:8080/",
          "height": 334
        },
        "id": "jfxlo532NZB-",
        "outputId": "67267e1a-461d-4fb2-c032-e2727295a1bf"
      },
      "source": [
        "plt.figure( figsize = (15, 5) )\n",
        "sn.barplot( data = filescompare_df,\n",
        "           x = 'formats',\n",
        "           y = 'read_time');"
      ],
      "execution_count": 32,
      "outputs": [
        {
          "output_type": "display_data",
          "data": {
            "text/plain": [
              "<Figure size 1080x360 with 1 Axes>"
            ],
            "image/png": "[encoded data removed]"
          },
          "metadata": {
            "needs_background": "light"
          }
        }
      ]
    },
    {
      "cell_type": "code",
      "source": [
        "train_parquet_df.columns"
      ],
      "metadata": {
        "id": "qhxsPyNUaJfo",
        "outputId": "cc5be22e-e118-4ad3-9b3c-c60195c6c50d",
        "colab": {
          "base_uri": "https://localhost:8080/"
        }
      },
      "execution_count": 33,
      "outputs": [
        {
          "output_type": "execute_result",
          "data": {
            "text/plain": [
              "Index(['channelGrouping', 'date', 'device', 'fullVisitorId', 'geoNetwork',\n",
              "       'sessionId', 'socialEngagementType', 'totals', 'trafficSource',\n",
              "       'visitId', 'visitNumber', 'visitStartTime'],\n",
              "      dtype='object')"
            ]
          },
          "metadata": {},
          "execution_count": 33
        }
      ]
    },
    {
      "cell_type": "markdown",
      "source": [
        "### Reading specific columns"
      ],
      "metadata": {
        "id": "6um5TL-4apqq"
      }
    },
    {
      "cell_type": "code",
      "source": [
        "%%time \n",
        "\n",
        "train_parquet_df = pd.read_parquet(\"./datasets/train.parquet\", columns = ['channelGrouping','sessionId', 'totals'])"
      ],
      "metadata": {
        "id": "1G8msPEUabhm",
        "outputId": "07c32888-9628-43bb-eb32-9e7db00ca20d",
        "colab": {
          "base_uri": "https://localhost:8080/"
        }
      },
      "execution_count": 37,
      "outputs": [
        {
          "output_type": "stream",
          "name": "stdout",
          "text": [
            "CPU times: user 454 ms, sys: 174 ms, total: 628 ms\n",
            "Wall time: 493 ms\n"
          ]
        }
      ]
    }
  ]
}